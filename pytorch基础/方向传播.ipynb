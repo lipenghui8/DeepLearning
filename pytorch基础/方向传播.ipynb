{
 "cells": [
  {
   "cell_type": "code",
   "execution_count": null,
   "metadata": {},
   "outputs": [],
   "source": []
  }
 ],
 "metadata": {
  "kernelspec": {
   "display_name": "Python 3.8.12 ('pt')",
   "language": "python",
   "name": "python3"
  },
  "language_info": {
   "name": "python",
   "version": "3.8.12"
  },
  "orig_nbformat": 4,
  "vscode": {
   "interpreter": {
    "hash": "76fa8c6cf32f396a6a4c6d24970d8ac266eead56fea9a0313690d99de141e317"
   }
  }
 },
 "nbformat": 4,
 "nbformat_minor": 2
}
